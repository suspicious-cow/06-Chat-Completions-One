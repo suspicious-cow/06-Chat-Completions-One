{
 "cells": [
  {
   "cell_type": "markdown",
   "metadata": {},
   "source": [
    "# Chat Completions One\n",
    "\n",
    "## Basic Connection and Packages\n",
    "\n",
    "### Importing OpenAI and Initializing the Client\n",
    "\n",
    "To begin, we'll import the `OpenAI` class from the `openai` library, which allows us to interact with the OpenAI API. Next, we initialize a client instance, which we'll use to send requests and receive responses from the OpenAI models.\n",
    "\n"
   ]
  },
  {
   "cell_type": "code",
   "execution_count": 2,
   "metadata": {},
   "outputs": [],
   "source": [
    "\"\"\"\n",
    "This script is a simple example of using the OpenAI API\n",
    "It uses the OpenAI Python client library to open a connection to the OpenAI API.\n",
    "\"\"\"\n",
    "from openai import OpenAI\n",
    "client = OpenAI()\n"
   ]
  },
  {
   "cell_type": "markdown",
   "metadata": {},
   "source": [
    "### Importing Additional Libraries\n",
    "\n",
    "Next, we import the `json` library. This standard Python library helps us handle JSON data, allowing easy conversion between JSON strings and Python data structures.\n",
    "\n"
   ]
  },
  {
   "cell_type": "code",
   "execution_count": 5,
   "metadata": {},
   "outputs": [],
   "source": [
    "\"\"\"\n",
    "Additional imports\n",
    "These imports are used for various purposes in the script.\n",
    "\"\"\"\n",
    "\n",
    "import json # common library for working with JSON data"
   ]
  },
  {
   "cell_type": "markdown",
   "metadata": {},
   "source": [
    "## Messages\n",
    "\n",
    "### Creating a Chat Completion with OpenAI API\n",
    "\n",
    "Now, we'll demonstrate how to use the OpenAI API to generate text completions. We'll utilize the previously initialized client to send a prompt to the `gpt-4o-mini` model—a compact variant of the GPT-4 model optimized for efficient performance. \n",
    "\n",
    "In this example, we define two roles with messages within our prompt:\n",
    "\n",
    "- **System**: Sets the behavior of the model, instructing it to act as a helpful assistant.\n",
    "- **User**: Provides a specific request—in this case, asking the model to write a haiku about recursion in programming.\n",
    "\n",
    "After sending this prompt, we print the model's response.\n",
    "\n"
   ]
  },
  {
   "cell_type": "code",
   "execution_count": 33,
   "metadata": {},
   "outputs": [
    {
     "name": "stdout",
     "output_type": "stream",
     "text": [
      "Code calls itself back,  \n",
      "Layers of thought intertwine,  \n",
      "Endless loop of depth.\n"
     ]
    }
   ],
   "source": [
    "\"\"\"\n",
    "This script demonstrates how to use the OpenAI API to generate text completions.\n",
    "It uses the OpenAI Python client library to connection we already made to connect to the OpenAI API.\n",
    "This uses the `gpt-4o-mini` model, which is a variant of the GPT-4 model.\n",
    "The script sends a prompt to the model and prints the generated text.\n",
    "\"\"\"\n",
    "completion = client.chat.completions.create(\n",
    "  model=\"gpt-4o-mini\",\n",
    "  messages=[\n",
    "    {\"role\": \"system\", \"content\": \"You are a helpful assistant.\"},\n",
    "    {\"role\": \"user\", \"content\": \"Write a haiku about recursion in programming.\"}\n",
    "  ]\n",
    ")\n",
    "\n",
    "\n",
    "print(completion.choices[0].message.content)"
   ]
  },
  {
   "cell_type": "markdown",
   "metadata": {},
   "source": [
    "### Updating to the Newer Model Types and Message Roles\n",
    "\n",
    "In this example, we demonstrate using the newer OpenAI model `o3-mini`. Notably, this model variant introduces a new role called `developer`, replacing the previous `system` role. \n",
    "\n",
    "The updated roles are:\n",
    "\n",
    "- **Developer**: Provides instructions defining the assistant's behavior.\n",
    "- **User**: Specifies the actual query or request—in this case, generating a haiku about recursion in programming.\n",
    "\n",
    "We send these messages to the `o3-mini` model and output the generated response.\n"
   ]
  },
  {
   "cell_type": "code",
   "execution_count": null,
   "metadata": {},
   "outputs": [],
   "source": [
    "\"\"\"\n",
    "This script demonstrates how to use the OpenAI API to generate text completions.\n",
    "It uses the OpenAI Python client library to connection we already made to connect to the OpenAI API.\n",
    "This uses the `o3-mini` model, which is a variant of the o3 model.\n",
    "The script sends a prompt to the model and prints the generated text.\n",
    "\"\"\"\n",
    "completion = client.chat.completions.create(\n",
    "  model=\"o3-mini\",\n",
    "  messages=[\n",
    "    {\"role\": \"developer\", \"content\": \"You are a helpful assistant.\"},\n",
    "    {\"role\": \"user\", \"content\": \"Write a haiku about recursion in programming.\"}\n",
    "  ]\n",
    ")\n",
    "\n",
    "print(completion.choices[0].message.content)\n"
   ]
  },
  {
   "cell_type": "markdown",
   "metadata": {},
   "source": [
    "## Response Formats"
   ]
  },
  {
   "cell_type": "markdown",
   "metadata": {},
   "source": [
    "### Specifying the Response Format\n",
    "\n",
    "Next, we add the `response_format` parameter to our request, allowing explicit control over how the API returns the response. Here, we specify `\"text\"` to ensure the model's response is returned as plain text, suitable for direct use or printing.\n",
    "\n",
    "We continue to use the `gpt-4o-mini` model and the newer `developer` role to instruct the assistant's behavior.\n"
   ]
  },
  {
   "cell_type": "code",
   "execution_count": null,
   "metadata": {},
   "outputs": [
    {
     "name": "stdout",
     "output_type": "stream",
     "text": [
      "Functions call themselves,  \n",
      "Infinite loops of knowledge,  \n",
      "Endless paths unwind.\n"
     ]
    }
   ],
   "source": [
    "\"\"\"\n",
    "This script shows how to use the OpenAI API to generate text completions.\n",
    "We add the response_format parameter to specify the format of the response.\n",
    "In this case, we want the response to be in text format.\n",
    "\"\"\"\n",
    "completion = client.chat.completions.create(\n",
    "  model=\"gpt-4o-mini\",\n",
    "  messages=[\n",
    "    {\"role\": \"developer\", \"content\": \"You are a helpful assistant.\"},\n",
    "    {\"role\": \"user\", \"content\": \"Write a haiku about recursion in programming.\"}\n",
    "  ],\n",
    "  response_format={\"type\": \"text\"},  \n",
    ")\n",
    "\n",
    "print(completion.choices[0].message.content)"
   ]
  },
  {
   "cell_type": "markdown",
   "metadata": {},
   "source": [
    "### Receiving Responses in JSON Format\n",
    "\n",
    "In this example, we demonstrate how to explicitly request the model’s response as a structured JSON object using the `response_format` parameter set to `\"json_object\"`. This format is particularly useful when you want to parse and integrate the model's responses programmatically into applications or data pipelines.\n",
    "\n",
    "We continue using the `gpt-4o-mini` model and clearly instruct it (via the user message) to generate the response as JSON.\n"
   ]
  },
  {
   "cell_type": "code",
   "execution_count": 35,
   "metadata": {},
   "outputs": [
    {
     "name": "stdout",
     "output_type": "stream",
     "text": [
      "{\n",
      "  \"haiku\": {\n",
      "    \"line1\": \"Function calls itself,\",\n",
      "    \"line2\": \"Echoes through the endless roads,\",\n",
      "    \"line3\": \"Mind's loop unwinding.\"\n",
      "  }\n",
      "}\n"
     ]
    }
   ],
   "source": [
    "\"\"\"\n",
    "This script shows how to use the OpenAI API to generate text completions.\n",
    "We add the response_format parameter to specify the format of the response.\n",
    "In this case, we want the response to be in JSON object format.\n",
    "\"\"\"\n",
    "\n",
    "completion = client.chat.completions.create(\n",
    "  model=\"gpt-4o-mini\",\n",
    "  messages=[\n",
    "    {\"role\": \"developer\", \"content\": \"You are a helpful assistant.\"},\n",
    "    {\"role\": \"user\", \"content\": \"Write a haiku about recursion in programming. Give me the output in JSON format.\"}\n",
    "  ],\n",
    "  response_format={\"type\": \"json_object\"},  \n",
    ")\n",
    "\n",
    "print(completion.choices[0].message.content)"
   ]
  },
  {
   "cell_type": "markdown",
   "metadata": {},
   "source": [
    "### Defining Custom JSON Schema for Structured Responses\n",
    "\n",
    "In this example, we demonstrate how to obtain structured, schema-based JSON responses from the OpenAI API. We set the `response_format` parameter to `\"json_schema\"` and define our own schema. This custom schema precisely controls the structure and content of the generated response, making it easy to integrate into applications, databases, or analytical tools.\n",
    "\n",
    "Our custom JSON schema requests detailed, structured information about an animal—in this case, an emperor penguin—including:\n",
    "\n",
    "- **Name**: The common name of the animal.\n",
    "- **Species**: The species classification.\n",
    "- **Lifespan**: Typical lifespan in years.\n",
    "- **Minimum and Maximum Weight**: Typical weight range in kilograms.\n",
    "- **Habitat**: Natural habitat description.\n",
    "- **Diet**: Typical dietary habits.\n",
    "\n",
    "We then parse the returned JSON content into a Python dictionary and print it in a formatted, easy-to-read way.\n"
   ]
  },
  {
   "cell_type": "code",
   "execution_count": null,
   "metadata": {},
   "outputs": [
    {
     "name": "stdout",
     "output_type": "stream",
     "text": [
      "{\n",
      "  \"name\": \"Emperor Penguin\",\n",
      "  \"species\": \"Aptenodytes forsteri\",\n",
      "  \"lifespan\": 15,\n",
      "  \"min_weight\": 25,\n",
      "  \"max_weight\": 45,\n",
      "  \"habitat\": \"Antarctic ice and coastal areas\",\n",
      "  \"diet\": \"Carnivorous, primarily feeds on fish, krill, and squid.\"\n",
      "}\n"
     ]
    }
   ],
   "source": [
    "\"\"\"\n",
    "This script shows how to use the OpenAI API to generate text completions.\n",
    "We add the response_format parameter to specify the format of the response.\n",
    "In this case, we want the response to be in JSON using a schema of our choice.\n",
    "\"\"\"\n",
    "\n",
    "completion = client.chat.completions.create(\n",
    "    model=\"gpt-4o-mini\",\n",
    "    messages=[\n",
    "        {\"role\": \"system\", \"content\": \"You are a helpful assistant.\"},  # Changed \"developer\" to \"system\"\n",
    "        {\"role\": \"user\", \"content\": \"What is an emperor penguin?\"}  # Added question mark to match content\n",
    "    ],\n",
    "    response_format={\n",
    "        \"type\": \"json_schema\",\n",
    "        \"json_schema\": {\n",
    "            \"name\": \"animal_information\",\n",
    "            \"strict\": True,\n",
    "            \"schema\": {\n",
    "                \"type\": \"object\",\n",
    "                \"properties\": {\n",
    "                    \"name\": {\n",
    "                        \"type\": \"string\",\n",
    "                        \"description\": \"The common name of the animal.\"\n",
    "                    },\n",
    "                    \"species\": {\n",
    "                        \"type\": \"string\",\n",
    "                        \"description\": \"The species classification of the animal.\"\n",
    "                    },\n",
    "                    \"lifespan\": {\n",
    "                        \"type\": \"number\",\n",
    "                        \"description\": \"The typical lifespan of the animal in years.\"\n",
    "                    },\n",
    "                    \"min_weight\": {\n",
    "                        \"type\": \"number\",\n",
    "                        \"description\": \"The minimum weight the animal typically reaches in kilograms.\"\n",
    "                    },\n",
    "                    \"max_weight\": {\n",
    "                        \"type\": \"number\",\n",
    "                        \"description\": \"The maximum weight the animal typically reaches in kilograms.\"\n",
    "                    },\n",
    "                    \"habitat\": {\n",
    "                        \"type\": \"string\",\n",
    "                        \"description\": \"The natural habitat where the animal is commonly found.\"\n",
    "                    },\n",
    "                    \"diet\": {\n",
    "                        \"type\": \"string\",\n",
    "                        \"description\": \"The dietary habits of the animal.\"\n",
    "                    }\n",
    "                },\n",
    "                \"required\": [\n",
    "                    \"name\",\n",
    "                    \"species\",\n",
    "                    \"lifespan\",\n",
    "                    \"min_weight\",\n",
    "                    \"max_weight\",\n",
    "                    \"habitat\",\n",
    "                    \"diet\"\n",
    "                ],\n",
    "                \"additionalProperties\": False\n",
    "            }\n",
    "        }\n",
    "    }  \n",
    ")\n",
    "\n",
    "json_output = completion.choices[0].message.content\n",
    "formatted_json = json.loads(json_output)  # Convert string to Python dict\n",
    "pretty_json = json.dumps(formatted_json, indent=2)  # Format with 2 spaces indentation\n",
    "print(pretty_json)"
   ]
  },
  {
   "cell_type": "markdown",
   "metadata": {},
   "source": [
    "### Dynamic Selection from Multiple JSON Schemas\n",
    "\n",
    "This example shows how the OpenAI API can dynamically select from multiple structured JSON schemas based on the user's prompt. Here, we've defined two distinct schemas within one request:\n",
    "\n",
    "- **Animal Schema**: Captures structured information about an animal, such as species, lifespan, and diet.\n",
    "- **House Schema**: Provides details about a house, including architectural style, size, and location.\n",
    "\n",
    "By asking the model to \"Describe a typical family home,\" the API automatically selects and uses the house schema to structure its response. The resulting JSON is then parsed and printed neatly.\n"
   ]
  },
  {
   "cell_type": "code",
   "execution_count": null,
   "metadata": {},
   "outputs": [
    {
     "name": "stdout",
     "output_type": "stream",
     "text": [
      "{\n",
      "  \"item\": {\n",
      "    \"style\": \"Modern\",\n",
      "    \"num_bedrooms\": 3,\n",
      "    \"num_bathrooms\": 2,\n",
      "    \"square_feet\": 2000,\n",
      "    \"location\": \"Suburban neighborhood\",\n",
      "    \"year_built\": 2015\n",
      "  }\n",
      "}\n"
     ]
    }
   ],
   "source": [
    "\"\"\"\n",
    "This script demonstrates how to interact with the OpenAI API using structured JSON responses.\n",
    "It defines two separate JSON schemas: one for details about animals and another for houses.\n",
    "The OpenAI API will choose the appropriate schema based on the user's input prompt.\n",
    "In this example, the prompt is about describing a typical family home, which triggers the house schema.\n",
    "\"\"\"\n",
    "\n",
    "completion = client.chat.completions.create(\n",
    "    model=\"gpt-4o-mini\",\n",
    "    messages=[\n",
    "        {\"role\": \"system\", \"content\": \"You are a helpful assistant.\"},\n",
    "        {\"role\": \"user\", \"content\": \"Describe a typical family home.\"}\n",
    "    ],\n",
    "    response_format={\n",
    "        \"type\": \"json_schema\",\n",
    "        \"json_schema\": {\n",
    "            \"name\": \"item_information\",\n",
    "            \"strict\": True,\n",
    "            \"schema\": {\n",
    "                \"type\": \"object\",\n",
    "                \"properties\": {\n",
    "                    \"item\": {\n",
    "                        \"anyOf\": [\n",
    "                            {\n",
    "                                \"type\": \"object\",\n",
    "                                \"description\": \"Details about an animal.\",\n",
    "                                \"properties\": {\n",
    "                                    \"name\": {\"type\": \"string\"},\n",
    "                                    \"species\": {\"type\": \"string\"},\n",
    "                                    \"lifespan\": {\"type\": \"number\"},\n",
    "                                    \"min_weight\": {\"type\": \"number\"},\n",
    "                                    \"max_weight\": {\"type\": \"number\"},\n",
    "                                    \"habitat\": {\"type\": \"string\"},\n",
    "                                    \"diet\": {\"type\": \"string\"}\n",
    "                                },\n",
    "                                \"required\": [\n",
    "                                    \"name\", \"species\", \"lifespan\", \"min_weight\", \"max_weight\", \"habitat\", \"diet\"\n",
    "                                ],\n",
    "                                \"additionalProperties\": False\n",
    "                            },\n",
    "                            {\n",
    "                                \"type\": \"object\",\n",
    "                                \"description\": \"Details about a house.\",\n",
    "                                \"properties\": {\n",
    "                                    \"style\": {\"type\": \"string\", \"description\": \"Architectural style of the house.\"},\n",
    "                                    \"num_bedrooms\": {\"type\": \"number\", \"description\": \"Number of bedrooms.\"},\n",
    "                                    \"num_bathrooms\": {\"type\": \"number\", \"description\": \"Number of bathrooms.\"},\n",
    "                                    \"square_feet\": {\"type\": \"number\", \"description\": \"Size of the house in square feet.\"},\n",
    "                                    \"location\": {\"type\": \"string\", \"description\": \"General location or setting.\"},\n",
    "                                    \"year_built\": {\"type\": \"number\", \"description\": \"Year the house was built.\"}\n",
    "                                },\n",
    "                                \"required\": [\n",
    "                                    \"style\", \"num_bedrooms\", \"num_bathrooms\", \"square_feet\", \"location\", \"year_built\"\n",
    "                                ],\n",
    "                                \"additionalProperties\": False\n",
    "                            }\n",
    "                        ]\n",
    "                    }\n",
    "                },\n",
    "                \"required\": [\"item\"],\n",
    "                \"additionalProperties\": False\n",
    "            }\n",
    "        }\n",
    "    }\n",
    ")\n",
    "\n",
    "json_output = completion.choices[0].message.content\n",
    "formatted_json = json.loads(json_output)  # Convert string to Python dict\n",
    "pretty_json = json.dumps(formatted_json, indent=2)  # Format with 2 spaces indentation\n",
    "print(pretty_json)"
   ]
  },
  {
   "cell_type": "markdown",
   "metadata": {},
   "source": [
    "### Asking a Questions About an Object Not Covered by a Schema\n",
    "\n",
    "If you ask a question about an object, say a car, the OpenAI API, given our current schema setup (with schemas only for animals and houses), will be forced to respond using one of the provided schemas. This typically results in one of two behaviors:\n",
    "\n",
    "Forced Schema Matching:\n",
    "The API might try to fit the response into one of the existing schemas, causing incorrect or nonsensical results. For example, it might awkwardly describe a car using house properties (e.g., treating \"square_feet\" as the car’s size), or as an animal (e.g., describing the car as an animal with a \"lifespan\" and \"diet\").\n",
    "\n",
    "Validation Error:\n",
    "Depending on how strictly you've configured schema validation (\"strict\": True), the API could also fail or produce an error because it cannot logically conform a car description to either the animal or house schemas.\n",
    "\n",
    "Recommended Approach:\n",
    "To handle queries like these effectively, you should either:\n",
    "\n",
    "Add an additional schema specifically for cars using another schema entry within anyOf, or\n",
    "Create a general schema (e.g., general_item) that can accommodate miscellaneous or undefined categories."
   ]
  },
  {
   "cell_type": "code",
   "execution_count": 10,
   "metadata": {},
   "outputs": [
    {
     "name": "stdout",
     "output_type": "stream",
     "text": [
      "{\n",
      "  \"item\": {\n",
      "    \"style\": \"Sedan\",\n",
      "    \"num_bedrooms\": 0,\n",
      "    \"num_bathrooms\": 0,\n",
      "    \"square_feet\": 0,\n",
      "    \"location\": \"\",\n",
      "    \"year_built\": 0\n",
      "  }\n",
      "}\n"
     ]
    }
   ],
   "source": [
    "\"\"\"\n",
    "This script demonstrates how to interact with the OpenAI API using structured JSON responses.\n",
    "It defines two separate JSON schemas: one for details about animals and another for houses.\n",
    "The OpenAI API will choose the appropriate schema based on the user's input prompt.\n",
    "In this example, the prompt is about describing a typical family home, which triggers the house schema.\n",
    "\"\"\"\n",
    "\n",
    "completion = client.chat.completions.create(\n",
    "    model=\"gpt-4o-mini\",\n",
    "    messages=[\n",
    "        {\"role\": \"system\", \"content\": \"You are a helpful assistant.\"},\n",
    "        {\"role\": \"user\", \"content\": \"Describe a typical car.\"}\n",
    "    ],\n",
    "    response_format={\n",
    "        \"type\": \"json_schema\",\n",
    "        \"json_schema\": {\n",
    "            \"name\": \"item_information\",\n",
    "            \"strict\": True,\n",
    "            \"schema\": {\n",
    "                \"type\": \"object\",\n",
    "                \"properties\": {\n",
    "                    \"item\": {\n",
    "                        \"anyOf\": [\n",
    "                            {\n",
    "                                \"type\": \"object\",\n",
    "                                \"description\": \"Details about an animal.\",\n",
    "                                \"properties\": {\n",
    "                                    \"name\": {\"type\": \"string\"},\n",
    "                                    \"species\": {\"type\": \"string\"},\n",
    "                                    \"lifespan\": {\"type\": \"number\"},\n",
    "                                    \"min_weight\": {\"type\": \"number\"},\n",
    "                                    \"max_weight\": {\"type\": \"number\"},\n",
    "                                    \"habitat\": {\"type\": \"string\"},\n",
    "                                    \"diet\": {\"type\": \"string\"}\n",
    "                                },\n",
    "                                \"required\": [\n",
    "                                    \"name\", \"species\", \"lifespan\", \"min_weight\", \"max_weight\", \"habitat\", \"diet\"\n",
    "                                ],\n",
    "                                \"additionalProperties\": False\n",
    "                            },\n",
    "                            {\n",
    "                                \"type\": \"object\",\n",
    "                                \"description\": \"Details about a house.\",\n",
    "                                \"properties\": {\n",
    "                                    \"style\": {\"type\": \"string\", \"description\": \"Architectural style of the house.\"},\n",
    "                                    \"num_bedrooms\": {\"type\": \"number\", \"description\": \"Number of bedrooms.\"},\n",
    "                                    \"num_bathrooms\": {\"type\": \"number\", \"description\": \"Number of bathrooms.\"},\n",
    "                                    \"square_feet\": {\"type\": \"number\", \"description\": \"Size of the house in square feet.\"},\n",
    "                                    \"location\": {\"type\": \"string\", \"description\": \"General location or setting.\"},\n",
    "                                    \"year_built\": {\"type\": \"number\", \"description\": \"Year the house was built.\"}\n",
    "                                },\n",
    "                                \"required\": [\n",
    "                                    \"style\", \"num_bedrooms\", \"num_bathrooms\", \"square_feet\", \"location\", \"year_built\"\n",
    "                                ],\n",
    "                                \"additionalProperties\": False\n",
    "                            }\n",
    "                        ]\n",
    "                    }\n",
    "                },\n",
    "                \"required\": [\"item\"],\n",
    "                \"additionalProperties\": False\n",
    "            }\n",
    "        }\n",
    "    }\n",
    ")\n",
    "\n",
    "json_output = completion.choices[0].message.content\n",
    "formatted_json = json.loads(json_output)  # Convert string to Python dict\n",
    "pretty_json = json.dumps(formatted_json, indent=2)  # Format with 2 spaces indentation\n",
    "print(pretty_json)"
   ]
  }
 ],
 "metadata": {
  "kernelspec": {
   "display_name": "openai_api_2025",
   "language": "python",
   "name": "python3"
  },
  "language_info": {
   "codemirror_mode": {
    "name": "ipython",
    "version": 3
   },
   "file_extension": ".py",
   "mimetype": "text/x-python",
   "name": "python",
   "nbconvert_exporter": "python",
   "pygments_lexer": "ipython3",
   "version": "3.13.2"
  }
 },
 "nbformat": 4,
 "nbformat_minor": 2
}
